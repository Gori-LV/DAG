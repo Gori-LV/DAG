{
 "cells": [
  {
   "cell_type": "code",
   "execution_count": 1,
   "metadata": {},
   "outputs": [],
   "source": [
    "from util import *\n",
    "from models import *\n",
    "from explain import *\n",
    "\n",
    "import time\n",
    "import math"
   ]
  },
  {
   "cell_type": "code",
   "execution_count": 3,
   "metadata": {},
   "outputs": [
    {
     "name": "stdout",
     "output_type": "stream",
     "text": [
      "GIN model for MUTAG is loaded.\n",
      "GNN score got from the model\n",
      "shape of distribution matrix: (188, 931)\n",
      "dtyp of distribution int8\n",
      "explainer set up.\n"
     ]
    }
   ],
   "source": [
    "dataset = 'MUTAG'\n",
    "gnn = 'GIN' \n",
    "target_class = 1 # mutagenic class\n",
    "model = loadGNN(dataset, gnn)\n",
    "lambdas = [0.1504, 277.9444, 0.3724] # lambda1, lambda2, lambda3\n",
    "explainer = DAG(dataset=dataset, model=model, lambdas=np.array([1]+lambdas)) # [1] is the multiplier for Overall fidelity in the objective\n",
    "\n",
    "n_candidate = len([x for x in explainer.candidate if x[1]==target_class])\n",
    "k = math.ceil((n_candidate+1)/2)\n"
   ]
  },
  {
   "cell_type": "code",
   "execution_count": 4,
   "metadata": {},
   "outputs": [
    {
     "name": "stdout",
     "output_type": "stream",
     "text": [
      "-------------------- iter: 0 len of M is 16\n",
      "-------------------- iter: 0 min marginal is 1.0006\n",
      "-------------------- iter: 0 picked (789, 1)\n",
      "-------------------- iter: 1 len of M is 3\n",
      "-------------------- iter: 1 min marginal is 0.0005112188816070557\n",
      "-------------------- iter: 1 picked a dummy\n",
      "-------------------- iter: 2 picked (699, 1)\n",
      "No positive gain! Greedy terminated.\n",
      "\n",
      "time used\n",
      "0.03667807579040527\n",
      "\n",
      "Evaluation on the output set:\n",
      "GNN score: 0.9999112188816071\n",
      "self-sup: 1.0\n",
      "self-den: 0.0\n",
      "No.edges: 4.5\n",
      "No.explanantions: 2\n",
      "\n"
     ]
    },
    {
     "data": {
      "text/plain": [
       "[0.9999112188816071, 1.0, 0.0, 4.5, 2]"
      ]
     },
     "execution_count": 4,
     "metadata": {},
     "output_type": "execute_result"
    }
   ],
   "source": [
    "#### For one time test\n",
    "start = time.time()\n",
    "output = explainer.explain(k=k, target_class=target_class)\n",
    "end = time.time()\n",
    "print('time used')\n",
    "print(end - start)\n",
    "\n",
    "print('\\nEvaluation on the output set:')\n",
    "explainer.evalOutput(output, read_out=True)\n"
   ]
  },
  {
   "cell_type": "code",
   "execution_count": 8,
   "metadata": {},
   "outputs": [
    {
     "name": "stdout",
     "output_type": "stream",
     "text": [
      "(789, 1)\n",
      "(1.0, 1.0, 0.0, 5)\n",
      "(699, 1)\n",
      "(0.9998224377632141, 1.0, 0.0, 4)\n"
     ]
    }
   ],
   "source": [
    "# evaluate each single explanation\n",
    "for e in output:\n",
    "    print(e) # candidate id, and predicted class\n",
    "    print(explainer.evalIndividualExp(e)) # format: GNN score, self-support, self-denial, number of edges\n"
   ]
  },
  {
   "cell_type": "code",
   "execution_count": 7,
   "metadata": {},
   "outputs": [
    {
     "name": "stdout",
     "output_type": "stream",
     "text": [
      "result/MUTAG/GIN_result/class_1 already exists, delete and give new visual\n"
     ]
    }
   ],
   "source": [
    "visualResult(output=output, gSpanOutput=explainer.gSpan_output_file, save_path=explainer.save_path) # see the visualized results in the below path"
   ]
  },
  {
   "cell_type": "code",
   "execution_count": null,
   "metadata": {},
   "outputs": [],
   "source": []
  }
 ],
 "metadata": {
  "kernelspec": {
   "display_name": "Python 3",
   "language": "python",
   "name": "python3"
  },
  "language_info": {
   "codemirror_mode": {
    "name": "ipython",
    "version": 3
   },
   "file_extension": ".py",
   "mimetype": "text/x-python",
   "name": "python",
   "nbconvert_exporter": "python",
   "pygments_lexer": "ipython3",
   "version": "3.8.6"
  }
 },
 "nbformat": 4,
 "nbformat_minor": 4
}
