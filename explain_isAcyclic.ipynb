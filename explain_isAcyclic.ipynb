{
 "cells": [
  {
   "cell_type": "code",
   "execution_count": 1,
   "metadata": {},
   "outputs": [],
   "source": [
    "from util import *\n",
    "from models import *\n",
    "from explain import *\n",
    "\n",
    "import time\n",
    "import math"
   ]
  },
  {
   "cell_type": "code",
   "execution_count": 2,
   "metadata": {},
   "outputs": [
    {
     "name": "stdout",
     "output_type": "stream",
     "text": [
      "GIN model for isAcyclic is loaded.\n"
     ]
    },
    {
     "name": "stderr",
     "output_type": "stream",
     "text": [
      "/Library/Frameworks/Python.framework/Versions/3.8/lib/python3.8/site-packages/torch_geometric/deprecation.py:13: UserWarning: 'data.DataLoader' is deprecated, use 'loader.DataLoader' instead\n",
      "  warnings.warn(out)\n"
     ]
    },
    {
     "name": "stdout",
     "output_type": "stream",
     "text": [
      "GNN score got from the model\n",
      "shape of distribution matrix: (533, 4)\n",
      "dtyp of distribution int8\n",
      "explainer set up.\n"
     ]
    }
   ],
   "source": [
    "dataset = 'isAcyclic'\n",
    "gnn = 'GIN' \n",
    "n_nodes = 5 # number of nodes in the candidate, can also input 'all'\n",
    "target_class = 1 # acyclic class, cyclic class: 0\n",
    "model = loadGNN(dataset, gnn)\n",
    "lambdas = [0.2132, 0.17351, 0] # lambda1, lambda2, lambda3\n",
    "explainer = DAG(dataset=dataset, model=model, lambdas=np.array([1]+lambdas), isAcyclic_n_nodes=n_nodes) # [1] is the multiplier for Overall fidelity in the objective\n",
    "\n",
    "n_candidate = len([x for x in explainer.candidate if x[1]==target_class])\n",
    "k = math.ceil((n_candidate+1)/2)\n"
   ]
  },
  {
   "cell_type": "code",
   "execution_count": 3,
   "metadata": {},
   "outputs": [
    {
     "name": "stdout",
     "output_type": "stream",
     "text": [
      "-------------------- iter: 0 len of M is 2\n",
      "-------------------- iter: 0 min marginal is 1.04934098827176\n",
      "-------------------- iter: 0 picked (3, 1)\n",
      "-------------------- iter: 1 len of M is 1\n",
      "-------------------- iter: 1 min marginal is 0.007370196427010686\n",
      "-------------------- iter: 1 picked a dummy\n",
      "time used\n",
      "0.012141942977905273\n",
      "\n",
      "Evaluation on the output set:\n",
      "GNN score: 0.999972939491272\n",
      "self-sup: 0.7204301075268817\n",
      "self-den: 0.27956989247311825\n",
      "No.edges: 4.0\n",
      "No.explanantions: 1\n",
      "\n"
     ]
    },
    {
     "data": {
      "text/plain": [
       "[0.999972939491272, 0.7204301075268817, 0.27956989247311825, 4.0, 1]"
      ]
     },
     "execution_count": 3,
     "metadata": {},
     "output_type": "execute_result"
    }
   ],
   "source": [
    "#### For one time test\n",
    "start = time.time()\n",
    "output = explainer.explain(k=k, target_class=target_class)\n",
    "end = time.time()\n",
    "print('time used')\n",
    "print(end - start)\n",
    "\n",
    "print('\\nEvaluation on the output set:')\n",
    "explainer.evalOutput(output, read_out=True)\n"
   ]
  },
  {
   "cell_type": "code",
   "execution_count": 4,
   "metadata": {},
   "outputs": [
    {
     "name": "stdout",
     "output_type": "stream",
     "text": [
      "(3, 1)\n",
      "(0.999972939491272, 0.7204301075268817, 0.27956989247311825, 4)\n"
     ]
    }
   ],
   "source": [
    "# evaluate each single explanation\n",
    "for e in output:\n",
    "    print(e) # candidate id, and predicted class\n",
    "    print(explainer.evalIndividualExp(e)) # format: GNN score, self-support, self-denial, number of edges\n"
   ]
  },
  {
   "cell_type": "code",
   "execution_count": 5,
   "metadata": {},
   "outputs": [],
   "source": [
    "visualResult(output=output, gSpanOutput=explainer.gSpan_output_file, save_path=explainer.save_path, if_isAcyclic=True) # see the visualized results in the below path"
   ]
  },
  {
   "cell_type": "code",
   "execution_count": null,
   "metadata": {},
   "outputs": [],
   "source": []
  }
 ],
 "metadata": {
  "kernelspec": {
   "display_name": "Python 3",
   "language": "python",
   "name": "python3"
  },
  "language_info": {
   "codemirror_mode": {
    "name": "ipython",
    "version": 3
   },
   "file_extension": ".py",
   "mimetype": "text/x-python",
   "name": "python",
   "nbconvert_exporter": "python",
   "pygments_lexer": "ipython3",
   "version": "3.8.6"
  }
 },
 "nbformat": 4,
 "nbformat_minor": 4
}
